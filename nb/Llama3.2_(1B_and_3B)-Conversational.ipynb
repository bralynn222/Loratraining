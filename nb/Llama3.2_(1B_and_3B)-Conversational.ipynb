
 https://colab.research.google.com/github/bralynn222/Loratraining/blob/main/nb/Llama3.2_(1B_and_3B)-Conversational.ipynb\" target=\"_parent\"><img src=\"https://colab.research.google.com/assets/colab-badge.svg\" alt=\"Open In Colab\"/></a>"
   
